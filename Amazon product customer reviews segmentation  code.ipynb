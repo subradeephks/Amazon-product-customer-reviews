{
 "cells": [
  {
   "cell_type": "code",
   "execution_count": 1,
   "id": "95a0543d",
   "metadata": {},
   "outputs": [],
   "source": [
    "import numpy as np\n",
    "import pandas as pd\n",
    "import matplotlib.pyplot as plt\n",
    "import seaborn as sns\n",
    "import warnings\n",
    "warnings.filterwarnings(\"ignore\")"
   ]
  },
  {
   "cell_type": "code",
   "execution_count": 2,
   "id": "bc631eb1",
   "metadata": {},
   "outputs": [
    {
     "data": {
      "text/html": [
       "<div>\n",
       "<style scoped>\n",
       "    .dataframe tbody tr th:only-of-type {\n",
       "        vertical-align: middle;\n",
       "    }\n",
       "\n",
       "    .dataframe tbody tr th {\n",
       "        vertical-align: top;\n",
       "    }\n",
       "\n",
       "    .dataframe thead th {\n",
       "        text-align: right;\n",
       "    }\n",
       "</style>\n",
       "<table border=\"1\" class=\"dataframe\">\n",
       "  <thead>\n",
       "    <tr style=\"text-align: right;\">\n",
       "      <th></th>\n",
       "      <th>Unnamed: 0</th>\n",
       "      <th>market_place</th>\n",
       "      <th>customer_id</th>\n",
       "      <th>review_id</th>\n",
       "      <th>product_id</th>\n",
       "      <th>product_parent</th>\n",
       "      <th>product_title</th>\n",
       "      <th>product_category</th>\n",
       "      <th>star_rating</th>\n",
       "      <th>helpful_votes</th>\n",
       "      <th>total_votes</th>\n",
       "      <th>vine</th>\n",
       "      <th>verified_purchase</th>\n",
       "      <th>review_headline</th>\n",
       "      <th>review_body</th>\n",
       "      <th>review_date</th>\n",
       "      <th>Sentiment_books</th>\n",
       "      <th>review_month</th>\n",
       "      <th>review_day</th>\n",
       "      <th>review_year</th>\n",
       "    </tr>\n",
       "  </thead>\n",
       "  <tbody>\n",
       "    <tr>\n",
       "      <th>0</th>\n",
       "      <td>0</td>\n",
       "      <td>\"US\"</td>\n",
       "      <td>\"25933450\"</td>\n",
       "      <td>\"RJOVP071AVAJO\"</td>\n",
       "      <td>\"0439873800\"</td>\n",
       "      <td>\"84656342\"</td>\n",
       "      <td>\"There Was an Old Lady Who Swallowed a Shell!\"</td>\n",
       "      <td>\"Books\"</td>\n",
       "      <td>1</td>\n",
       "      <td>0</td>\n",
       "      <td>0</td>\n",
       "      <td>0 \\t(N)</td>\n",
       "      <td>1 \\t(Y)</td>\n",
       "      <td>\"Five Stars\"</td>\n",
       "      <td>\"I love it and so does my students!\"</td>\n",
       "      <td>2015-08-31</td>\n",
       "      <td>positive</td>\n",
       "      <td>August</td>\n",
       "      <td>Monday</td>\n",
       "      <td>2015</td>\n",
       "    </tr>\n",
       "    <tr>\n",
       "      <th>1</th>\n",
       "      <td>1</td>\n",
       "      <td>\"US\"</td>\n",
       "      <td>\"1801372\"</td>\n",
       "      <td>\"R1ORGBETCDW3AI\"</td>\n",
       "      <td>\"1623953553\"</td>\n",
       "      <td>\"729938122\"</td>\n",
       "      <td>\"I Saw a Friend\"</td>\n",
       "      <td>\"Books\"</td>\n",
       "      <td>1</td>\n",
       "      <td>0</td>\n",
       "      <td>0</td>\n",
       "      <td>0 \\t(N)</td>\n",
       "      <td>1 \\t(Y)</td>\n",
       "      <td>\"Please buy \"I Saw a Friend\"! Your children wi...</td>\n",
       "      <td>\"My wife and I ordered 2 books and gave them a...</td>\n",
       "      <td>2015-08-31</td>\n",
       "      <td>positive</td>\n",
       "      <td>August</td>\n",
       "      <td>Monday</td>\n",
       "      <td>2015</td>\n",
       "    </tr>\n",
       "    <tr>\n",
       "      <th>2</th>\n",
       "      <td>2</td>\n",
       "      <td>\"US\"</td>\n",
       "      <td>\"5782091\"</td>\n",
       "      <td>\"R7TNRFQAOUTX5\"</td>\n",
       "      <td>\"142151981X\"</td>\n",
       "      <td>\"678139048\"</td>\n",
       "      <td>\"Black Lagoon, Vol. 6\"</td>\n",
       "      <td>\"Books\"</td>\n",
       "      <td>1</td>\n",
       "      <td>0</td>\n",
       "      <td>0</td>\n",
       "      <td>0 \\t(N)</td>\n",
       "      <td>1 \\t(Y)</td>\n",
       "      <td>\"Shipped fast.\"</td>\n",
       "      <td>\"Great book just like all the others in the se...</td>\n",
       "      <td>2015-08-31</td>\n",
       "      <td>positive</td>\n",
       "      <td>August</td>\n",
       "      <td>Monday</td>\n",
       "      <td>2015</td>\n",
       "    </tr>\n",
       "    <tr>\n",
       "      <th>3</th>\n",
       "      <td>3</td>\n",
       "      <td>\"US\"</td>\n",
       "      <td>\"32715830\"</td>\n",
       "      <td>\"R2GANXKDIFZ6OI\"</td>\n",
       "      <td>\"014241543X\"</td>\n",
       "      <td>\"712432151\"</td>\n",
       "      <td>\"If I Stay\"</td>\n",
       "      <td>\"Books\"</td>\n",
       "      <td>1</td>\n",
       "      <td>0</td>\n",
       "      <td>0</td>\n",
       "      <td>0 \\t(N)</td>\n",
       "      <td>0 \\t(N)</td>\n",
       "      <td>\"Five Stars\"</td>\n",
       "      <td>\"So beautiful\"</td>\n",
       "      <td>2015-08-31</td>\n",
       "      <td>positive</td>\n",
       "      <td>August</td>\n",
       "      <td>Monday</td>\n",
       "      <td>2015</td>\n",
       "    </tr>\n",
       "    <tr>\n",
       "      <th>4</th>\n",
       "      <td>4</td>\n",
       "      <td>\"US\"</td>\n",
       "      <td>\"14005703\"</td>\n",
       "      <td>\"R2NYB6C3R8LVN6\"</td>\n",
       "      <td>\"1604600527\"</td>\n",
       "      <td>\"800572372\"</td>\n",
       "      <td>\"Stars 'N Strips Forever\"</td>\n",
       "      <td>\"Books\"</td>\n",
       "      <td>1</td>\n",
       "      <td>2</td>\n",
       "      <td>2</td>\n",
       "      <td>0 \\t(N)</td>\n",
       "      <td>1 \\t(Y)</td>\n",
       "      <td>\"Five Stars\"</td>\n",
       "      <td>\"Enjoyed the author's story and his quilts are...</td>\n",
       "      <td>2015-08-31</td>\n",
       "      <td>positive</td>\n",
       "      <td>August</td>\n",
       "      <td>Monday</td>\n",
       "      <td>2015</td>\n",
       "    </tr>\n",
       "    <tr>\n",
       "      <th>...</th>\n",
       "      <td>...</td>\n",
       "      <td>...</td>\n",
       "      <td>...</td>\n",
       "      <td>...</td>\n",
       "      <td>...</td>\n",
       "      <td>...</td>\n",
       "      <td>...</td>\n",
       "      <td>...</td>\n",
       "      <td>...</td>\n",
       "      <td>...</td>\n",
       "      <td>...</td>\n",
       "      <td>...</td>\n",
       "      <td>...</td>\n",
       "      <td>...</td>\n",
       "      <td>...</td>\n",
       "      <td>...</td>\n",
       "      <td>...</td>\n",
       "      <td>...</td>\n",
       "      <td>...</td>\n",
       "      <td>...</td>\n",
       "    </tr>\n",
       "    <tr>\n",
       "      <th>95</th>\n",
       "      <td>95</td>\n",
       "      <td>\"US\"</td>\n",
       "      <td>\"9373014\"</td>\n",
       "      <td>\"RVAXL2PDUOYF3\"</td>\n",
       "      <td>\"1781716498\"</td>\n",
       "      <td>\"307416668\"</td>\n",
       "      <td>\"Fairytales Gone Wrong: Give Us a Smile Cinder...</td>\n",
       "      <td>\"Books\"</td>\n",
       "      <td>1</td>\n",
       "      <td>0</td>\n",
       "      <td>0</td>\n",
       "      <td>0 \\t(N)</td>\n",
       "      <td>1 \\t(Y)</td>\n",
       "      <td>\"We always talk about hygiene here and this re...</td>\n",
       "      <td>\"We always talk about hygiene here and this re...</td>\n",
       "      <td>2015-08-31</td>\n",
       "      <td>positive</td>\n",
       "      <td>August</td>\n",
       "      <td>Monday</td>\n",
       "      <td>2015</td>\n",
       "    </tr>\n",
       "    <tr>\n",
       "      <th>96</th>\n",
       "      <td>96</td>\n",
       "      <td>\"US\"</td>\n",
       "      <td>\"31654227\"</td>\n",
       "      <td>\"R2U47B96XHOLYN\"</td>\n",
       "      <td>\"0062091158\"</td>\n",
       "      <td>\"178935212\"</td>\n",
       "      <td>\"King (Prophecy)\"</td>\n",
       "      <td>\"Books\"</td>\n",
       "      <td>0</td>\n",
       "      <td>0</td>\n",
       "      <td>0</td>\n",
       "      <td>0 \\t(N)</td>\n",
       "      <td>0 \\t(N)</td>\n",
       "      <td>\"King (The Dragon King Chronicles, #3) by Elle...</td>\n",
       "      <td>\"(Source: I received a digital copy of this bo...</td>\n",
       "      <td>2015-08-31</td>\n",
       "      <td>negaitve</td>\n",
       "      <td>August</td>\n",
       "      <td>Monday</td>\n",
       "      <td>2015</td>\n",
       "    </tr>\n",
       "    <tr>\n",
       "      <th>97</th>\n",
       "      <td>97</td>\n",
       "      <td>\"US\"</td>\n",
       "      <td>\"12103883\"</td>\n",
       "      <td>\"R2N3K8FK4UI2IO\"</td>\n",
       "      <td>\"1509203141\"</td>\n",
       "      <td>\"803771611\"</td>\n",
       "      <td>\"Return to Me\"</td>\n",
       "      <td>\"Books\"</td>\n",
       "      <td>1</td>\n",
       "      <td>3</td>\n",
       "      <td>3</td>\n",
       "      <td>0 \\t(N)</td>\n",
       "      <td>0 \\t(N)</td>\n",
       "      <td>\"and their hearts loved deeply while continuou...</td>\n",
       "      <td>\"You'll find yourself transported back to war-...</td>\n",
       "      <td>2015-08-31</td>\n",
       "      <td>positive</td>\n",
       "      <td>August</td>\n",
       "      <td>Monday</td>\n",
       "      <td>2015</td>\n",
       "    </tr>\n",
       "    <tr>\n",
       "      <th>98</th>\n",
       "      <td>98</td>\n",
       "      <td>\"US\"</td>\n",
       "      <td>\"45587944\"</td>\n",
       "      <td>\"R34OETSC748FNA\"</td>\n",
       "      <td>\"0689120079\"</td>\n",
       "      <td>\"133206690\"</td>\n",
       "      <td>\"Fatal Voyage: The Sinking of the Uss Indianap...</td>\n",
       "      <td>\"Books\"</td>\n",
       "      <td>1</td>\n",
       "      <td>0</td>\n",
       "      <td>0</td>\n",
       "      <td>0 \\t(N)</td>\n",
       "      <td>1 \\t(Y)</td>\n",
       "      <td>\"Story that has been too long covered up. Show...</td>\n",
       "      <td>\"Story that has been too long covered up. Show...</td>\n",
       "      <td>2015-08-31</td>\n",
       "      <td>positive</td>\n",
       "      <td>August</td>\n",
       "      <td>Monday</td>\n",
       "      <td>2015</td>\n",
       "    </tr>\n",
       "    <tr>\n",
       "      <th>99</th>\n",
       "      <td>99</td>\n",
       "      <td>\"US\"</td>\n",
       "      <td>\"38753491\"</td>\n",
       "      <td>\"R3DP1CYB1M7V26\"</td>\n",
       "      <td>\"0990454665\"</td>\n",
       "      <td>\"865890307\"</td>\n",
       "      <td>\"The Gender of Inanimate Objects and Other Sto...</td>\n",
       "      <td>\"Books\"</td>\n",
       "      <td>1</td>\n",
       "      <td>1</td>\n",
       "      <td>1</td>\n",
       "      <td>0 \\t(N)</td>\n",
       "      <td>1 \\t(Y)</td>\n",
       "      <td>\"I loved this book\"</td>\n",
       "      <td>\"I loved this book!&lt;br /&gt;&lt;br /&gt;Maya is such an...</td>\n",
       "      <td>2015-08-31</td>\n",
       "      <td>positive</td>\n",
       "      <td>August</td>\n",
       "      <td>Monday</td>\n",
       "      <td>2015</td>\n",
       "    </tr>\n",
       "  </tbody>\n",
       "</table>\n",
       "<p>100 rows × 20 columns</p>\n",
       "</div>"
      ],
      "text/plain": [
       "    Unnamed: 0 market_place customer_id         review_id    product_id  \\\n",
       "0            0         \"US\"  \"25933450\"   \"RJOVP071AVAJO\"  \"0439873800\"   \n",
       "1            1         \"US\"   \"1801372\"  \"R1ORGBETCDW3AI\"  \"1623953553\"   \n",
       "2            2         \"US\"   \"5782091\"   \"R7TNRFQAOUTX5\"  \"142151981X\"   \n",
       "3            3         \"US\"  \"32715830\"  \"R2GANXKDIFZ6OI\"  \"014241543X\"   \n",
       "4            4         \"US\"  \"14005703\"  \"R2NYB6C3R8LVN6\"  \"1604600527\"   \n",
       "..         ...          ...         ...               ...           ...   \n",
       "95          95         \"US\"   \"9373014\"   \"RVAXL2PDUOYF3\"  \"1781716498\"   \n",
       "96          96         \"US\"  \"31654227\"  \"R2U47B96XHOLYN\"  \"0062091158\"   \n",
       "97          97         \"US\"  \"12103883\"  \"R2N3K8FK4UI2IO\"  \"1509203141\"   \n",
       "98          98         \"US\"  \"45587944\"  \"R34OETSC748FNA\"  \"0689120079\"   \n",
       "99          99         \"US\"  \"38753491\"  \"R3DP1CYB1M7V26\"  \"0990454665\"   \n",
       "\n",
       "   product_parent                                      product_title  \\\n",
       "0      \"84656342\"     \"There Was an Old Lady Who Swallowed a Shell!\"   \n",
       "1     \"729938122\"                                   \"I Saw a Friend\"   \n",
       "2     \"678139048\"                             \"Black Lagoon, Vol. 6\"   \n",
       "3     \"712432151\"                                        \"If I Stay\"   \n",
       "4     \"800572372\"                          \"Stars 'N Strips Forever\"   \n",
       "..            ...                                                ...   \n",
       "95    \"307416668\"  \"Fairytales Gone Wrong: Give Us a Smile Cinder...   \n",
       "96    \"178935212\"                                  \"King (Prophecy)\"   \n",
       "97    \"803771611\"                                     \"Return to Me\"   \n",
       "98    \"133206690\"  \"Fatal Voyage: The Sinking of the Uss Indianap...   \n",
       "99    \"865890307\"  \"The Gender of Inanimate Objects and Other Sto...   \n",
       "\n",
       "   product_category  star_rating  helpful_votes  total_votes     vine  \\\n",
       "0           \"Books\"            1              0            0  0 \\t(N)   \n",
       "1           \"Books\"            1              0            0  0 \\t(N)   \n",
       "2           \"Books\"            1              0            0  0 \\t(N)   \n",
       "3           \"Books\"            1              0            0  0 \\t(N)   \n",
       "4           \"Books\"            1              2            2  0 \\t(N)   \n",
       "..              ...          ...            ...          ...      ...   \n",
       "95          \"Books\"            1              0            0  0 \\t(N)   \n",
       "96          \"Books\"            0              0            0  0 \\t(N)   \n",
       "97          \"Books\"            1              3            3  0 \\t(N)   \n",
       "98          \"Books\"            1              0            0  0 \\t(N)   \n",
       "99          \"Books\"            1              1            1  0 \\t(N)   \n",
       "\n",
       "   verified_purchase                                    review_headline  \\\n",
       "0            1 \\t(Y)                                       \"Five Stars\"   \n",
       "1            1 \\t(Y)  \"Please buy \"I Saw a Friend\"! Your children wi...   \n",
       "2            1 \\t(Y)                                    \"Shipped fast.\"   \n",
       "3            0 \\t(N)                                       \"Five Stars\"   \n",
       "4            1 \\t(Y)                                       \"Five Stars\"   \n",
       "..               ...                                                ...   \n",
       "95           1 \\t(Y)  \"We always talk about hygiene here and this re...   \n",
       "96           0 \\t(N)  \"King (The Dragon King Chronicles, #3) by Elle...   \n",
       "97           0 \\t(N)  \"and their hearts loved deeply while continuou...   \n",
       "98           1 \\t(Y)  \"Story that has been too long covered up. Show...   \n",
       "99           1 \\t(Y)                                \"I loved this book\"   \n",
       "\n",
       "                                          review_body review_date  \\\n",
       "0                \"I love it and so does my students!\"  2015-08-31   \n",
       "1   \"My wife and I ordered 2 books and gave them a...  2015-08-31   \n",
       "2   \"Great book just like all the others in the se...  2015-08-31   \n",
       "3                                      \"So beautiful\"  2015-08-31   \n",
       "4   \"Enjoyed the author's story and his quilts are...  2015-08-31   \n",
       "..                                                ...         ...   \n",
       "95  \"We always talk about hygiene here and this re...  2015-08-31   \n",
       "96  \"(Source: I received a digital copy of this bo...  2015-08-31   \n",
       "97  \"You'll find yourself transported back to war-...  2015-08-31   \n",
       "98  \"Story that has been too long covered up. Show...  2015-08-31   \n",
       "99  \"I loved this book!<br /><br />Maya is such an...  2015-08-31   \n",
       "\n",
       "   Sentiment_books review_month review_day  review_year  \n",
       "0         positive       August     Monday         2015  \n",
       "1         positive       August     Monday         2015  \n",
       "2         positive       August     Monday         2015  \n",
       "3         positive       August     Monday         2015  \n",
       "4         positive       August     Monday         2015  \n",
       "..             ...          ...        ...          ...  \n",
       "95        positive       August     Monday         2015  \n",
       "96        negaitve       August     Monday         2015  \n",
       "97        positive       August     Monday         2015  \n",
       "98        positive       August     Monday         2015  \n",
       "99        positive       August     Monday         2015  \n",
       "\n",
       "[100 rows x 20 columns]"
      ]
     },
     "execution_count": 2,
     "metadata": {},
     "output_type": "execute_result"
    }
   ],
   "source": [
    "df=pd.read_csv(r\"Downloads\\amazon_books_Data.csv\")\n",
    "df"
   ]
  },
  {
   "cell_type": "code",
   "execution_count": 3,
   "id": "af23f79a",
   "metadata": {},
   "outputs": [],
   "source": [
    "data=df.iloc[:,[-6,-4]]"
   ]
  },
  {
   "cell_type": "code",
   "execution_count": 4,
   "id": "0790fb85",
   "metadata": {},
   "outputs": [
    {
     "data": {
      "text/html": [
       "<div>\n",
       "<style scoped>\n",
       "    .dataframe tbody tr th:only-of-type {\n",
       "        vertical-align: middle;\n",
       "    }\n",
       "\n",
       "    .dataframe tbody tr th {\n",
       "        vertical-align: top;\n",
       "    }\n",
       "\n",
       "    .dataframe thead th {\n",
       "        text-align: right;\n",
       "    }\n",
       "</style>\n",
       "<table border=\"1\" class=\"dataframe\">\n",
       "  <thead>\n",
       "    <tr style=\"text-align: right;\">\n",
       "      <th></th>\n",
       "      <th>review_body</th>\n",
       "      <th>Sentiment_books</th>\n",
       "    </tr>\n",
       "  </thead>\n",
       "  <tbody>\n",
       "    <tr>\n",
       "      <th>0</th>\n",
       "      <td>\"I love it and so does my students!\"</td>\n",
       "      <td>positive</td>\n",
       "    </tr>\n",
       "    <tr>\n",
       "      <th>1</th>\n",
       "      <td>\"My wife and I ordered 2 books and gave them a...</td>\n",
       "      <td>positive</td>\n",
       "    </tr>\n",
       "    <tr>\n",
       "      <th>2</th>\n",
       "      <td>\"Great book just like all the others in the se...</td>\n",
       "      <td>positive</td>\n",
       "    </tr>\n",
       "    <tr>\n",
       "      <th>3</th>\n",
       "      <td>\"So beautiful\"</td>\n",
       "      <td>positive</td>\n",
       "    </tr>\n",
       "    <tr>\n",
       "      <th>4</th>\n",
       "      <td>\"Enjoyed the author's story and his quilts are...</td>\n",
       "      <td>positive</td>\n",
       "    </tr>\n",
       "    <tr>\n",
       "      <th>...</th>\n",
       "      <td>...</td>\n",
       "      <td>...</td>\n",
       "    </tr>\n",
       "    <tr>\n",
       "      <th>95</th>\n",
       "      <td>\"We always talk about hygiene here and this re...</td>\n",
       "      <td>positive</td>\n",
       "    </tr>\n",
       "    <tr>\n",
       "      <th>96</th>\n",
       "      <td>\"(Source: I received a digital copy of this bo...</td>\n",
       "      <td>negaitve</td>\n",
       "    </tr>\n",
       "    <tr>\n",
       "      <th>97</th>\n",
       "      <td>\"You'll find yourself transported back to war-...</td>\n",
       "      <td>positive</td>\n",
       "    </tr>\n",
       "    <tr>\n",
       "      <th>98</th>\n",
       "      <td>\"Story that has been too long covered up. Show...</td>\n",
       "      <td>positive</td>\n",
       "    </tr>\n",
       "    <tr>\n",
       "      <th>99</th>\n",
       "      <td>\"I loved this book!&lt;br /&gt;&lt;br /&gt;Maya is such an...</td>\n",
       "      <td>positive</td>\n",
       "    </tr>\n",
       "  </tbody>\n",
       "</table>\n",
       "<p>100 rows × 2 columns</p>\n",
       "</div>"
      ],
      "text/plain": [
       "                                          review_body Sentiment_books\n",
       "0                \"I love it and so does my students!\"        positive\n",
       "1   \"My wife and I ordered 2 books and gave them a...        positive\n",
       "2   \"Great book just like all the others in the se...        positive\n",
       "3                                      \"So beautiful\"        positive\n",
       "4   \"Enjoyed the author's story and his quilts are...        positive\n",
       "..                                                ...             ...\n",
       "95  \"We always talk about hygiene here and this re...        positive\n",
       "96  \"(Source: I received a digital copy of this bo...        negaitve\n",
       "97  \"You'll find yourself transported back to war-...        positive\n",
       "98  \"Story that has been too long covered up. Show...        positive\n",
       "99  \"I loved this book!<br /><br />Maya is such an...        positive\n",
       "\n",
       "[100 rows x 2 columns]"
      ]
     },
     "execution_count": 4,
     "metadata": {},
     "output_type": "execute_result"
    }
   ],
   "source": [
    "data"
   ]
  },
  {
   "cell_type": "code",
   "execution_count": 5,
   "id": "8a1d5b38",
   "metadata": {},
   "outputs": [],
   "source": [
    "from sklearn.preprocessing import LabelEncoder\n",
    "label=LabelEncoder()\n",
    "data.iloc[:,-1]=label.fit_transform(data.iloc[:,-1])"
   ]
  },
  {
   "cell_type": "code",
   "execution_count": 6,
   "id": "8b0d7f65",
   "metadata": {},
   "outputs": [
    {
     "data": {
      "text/html": [
       "<div>\n",
       "<style scoped>\n",
       "    .dataframe tbody tr th:only-of-type {\n",
       "        vertical-align: middle;\n",
       "    }\n",
       "\n",
       "    .dataframe tbody tr th {\n",
       "        vertical-align: top;\n",
       "    }\n",
       "\n",
       "    .dataframe thead th {\n",
       "        text-align: right;\n",
       "    }\n",
       "</style>\n",
       "<table border=\"1\" class=\"dataframe\">\n",
       "  <thead>\n",
       "    <tr style=\"text-align: right;\">\n",
       "      <th></th>\n",
       "      <th>review_body</th>\n",
       "      <th>Sentiment_books</th>\n",
       "    </tr>\n",
       "  </thead>\n",
       "  <tbody>\n",
       "    <tr>\n",
       "      <th>0</th>\n",
       "      <td>\"I love it and so does my students!\"</td>\n",
       "      <td>1</td>\n",
       "    </tr>\n",
       "    <tr>\n",
       "      <th>1</th>\n",
       "      <td>\"My wife and I ordered 2 books and gave them a...</td>\n",
       "      <td>1</td>\n",
       "    </tr>\n",
       "    <tr>\n",
       "      <th>2</th>\n",
       "      <td>\"Great book just like all the others in the se...</td>\n",
       "      <td>1</td>\n",
       "    </tr>\n",
       "    <tr>\n",
       "      <th>3</th>\n",
       "      <td>\"So beautiful\"</td>\n",
       "      <td>1</td>\n",
       "    </tr>\n",
       "    <tr>\n",
       "      <th>4</th>\n",
       "      <td>\"Enjoyed the author's story and his quilts are...</td>\n",
       "      <td>1</td>\n",
       "    </tr>\n",
       "    <tr>\n",
       "      <th>...</th>\n",
       "      <td>...</td>\n",
       "      <td>...</td>\n",
       "    </tr>\n",
       "    <tr>\n",
       "      <th>95</th>\n",
       "      <td>\"We always talk about hygiene here and this re...</td>\n",
       "      <td>1</td>\n",
       "    </tr>\n",
       "    <tr>\n",
       "      <th>96</th>\n",
       "      <td>\"(Source: I received a digital copy of this bo...</td>\n",
       "      <td>0</td>\n",
       "    </tr>\n",
       "    <tr>\n",
       "      <th>97</th>\n",
       "      <td>\"You'll find yourself transported back to war-...</td>\n",
       "      <td>1</td>\n",
       "    </tr>\n",
       "    <tr>\n",
       "      <th>98</th>\n",
       "      <td>\"Story that has been too long covered up. Show...</td>\n",
       "      <td>1</td>\n",
       "    </tr>\n",
       "    <tr>\n",
       "      <th>99</th>\n",
       "      <td>\"I loved this book!&lt;br /&gt;&lt;br /&gt;Maya is such an...</td>\n",
       "      <td>1</td>\n",
       "    </tr>\n",
       "  </tbody>\n",
       "</table>\n",
       "<p>100 rows × 2 columns</p>\n",
       "</div>"
      ],
      "text/plain": [
       "                                          review_body  Sentiment_books\n",
       "0                \"I love it and so does my students!\"                1\n",
       "1   \"My wife and I ordered 2 books and gave them a...                1\n",
       "2   \"Great book just like all the others in the se...                1\n",
       "3                                      \"So beautiful\"                1\n",
       "4   \"Enjoyed the author's story and his quilts are...                1\n",
       "..                                                ...              ...\n",
       "95  \"We always talk about hygiene here and this re...                1\n",
       "96  \"(Source: I received a digital copy of this bo...                0\n",
       "97  \"You'll find yourself transported back to war-...                1\n",
       "98  \"Story that has been too long covered up. Show...                1\n",
       "99  \"I loved this book!<br /><br />Maya is such an...                1\n",
       "\n",
       "[100 rows x 2 columns]"
      ]
     },
     "execution_count": 6,
     "metadata": {},
     "output_type": "execute_result"
    }
   ],
   "source": [
    "data"
   ]
  },
  {
   "cell_type": "code",
   "execution_count": 7,
   "id": "9fb20e97",
   "metadata": {},
   "outputs": [],
   "source": [
    "import re\n",
    "import nltk\n",
    "from nltk.corpus import stopwords\n",
    "from nltk.stem import PorterStemmer"
   ]
  },
  {
   "cell_type": "code",
   "execution_count": 8,
   "id": "b79e3882",
   "metadata": {},
   "outputs": [],
   "source": [
    "corpus=[]\n",
    "for i in range(0,100):\n",
    "    reviews=re.sub(\"[^A-Za-z]\",' ',data['review_body'][i])\n",
    "    reviews=reviews.lower()\n",
    "    reviews=reviews.split()\n",
    "    pst=PorterStemmer()\n",
    "    reviews=[pst.stem(word)for word in reviews if word not in set(stopwords.words(\"english\"))]\n",
    "    reviews=''.join(reviews)\n",
    "    corpus.append(reviews)"
   ]
  },
  {
   "cell_type": "code",
   "execution_count": 9,
   "id": "8b94fa29",
   "metadata": {},
   "outputs": [],
   "source": [
    "from sklearn.feature_extraction.text import TfidfVectorizer\n",
    "tf=TfidfVectorizer()\n",
    "X=tf.fit_transform(corpus).toarray()\n",
    "y=data.iloc[:,-1].values"
   ]
  },
  {
   "cell_type": "code",
   "execution_count": 10,
   "id": "b38dc252",
   "metadata": {},
   "outputs": [
    {
     "data": {
      "text/plain": [
       "array([[0., 0., 0., ..., 0., 0., 0.],\n",
       "       [0., 0., 0., ..., 0., 1., 0.],\n",
       "       [0., 0., 0., ..., 0., 0., 0.],\n",
       "       ...,\n",
       "       [0., 0., 0., ..., 0., 0., 0.],\n",
       "       [0., 0., 0., ..., 0., 0., 0.],\n",
       "       [0., 0., 0., ..., 0., 0., 0.]])"
      ]
     },
     "execution_count": 10,
     "metadata": {},
     "output_type": "execute_result"
    }
   ],
   "source": [
    "X"
   ]
  },
  {
   "cell_type": "code",
   "execution_count": 11,
   "id": "5a72a078",
   "metadata": {},
   "outputs": [
    {
     "data": {
      "text/plain": [
       "array([1, 1, 1, 1, 1, 0, 1, 1, 1, 1, 1, 1, 1, 1, 0, 1, 1, 1, 1, 1, 1, 1,\n",
       "       1, 1, 1, 1, 1, 1, 0, 1, 1, 1, 1, 0, 0, 1, 1, 1, 1, 1, 1, 1, 0, 1,\n",
       "       1, 0, 0, 1, 1, 1, 1, 1, 0, 1, 1, 1, 1, 1, 1, 0, 1, 1, 1, 1, 1, 0,\n",
       "       0, 0, 1, 1, 1, 1, 1, 0, 1, 1, 1, 1, 1, 1, 1, 1, 1, 1, 1, 1, 1, 1,\n",
       "       1, 1, 1, 1, 1, 1, 0, 1, 0, 1, 1, 1])"
      ]
     },
     "execution_count": 11,
     "metadata": {},
     "output_type": "execute_result"
    }
   ],
   "source": [
    "y"
   ]
  },
  {
   "cell_type": "code",
   "execution_count": 12,
   "id": "7c711650",
   "metadata": {},
   "outputs": [],
   "source": [
    "from sklearn.model_selection import train_test_split\n",
    "X_train,X_test,y_train,y_test=train_test_split(X,y,test_size=0.20,random_state=0)"
   ]
  },
  {
   "cell_type": "code",
   "execution_count": 13,
   "id": "2ae2f6cb",
   "metadata": {},
   "outputs": [],
   "source": [
    "from sklearn.naive_bayes import BernoulliNB\n",
    "ber=BernoulliNB()\n",
    "ber.fit(X_train,y_train)\n",
    "y_pred=ber.predict(X_train)"
   ]
  },
  {
   "cell_type": "code",
   "execution_count": 14,
   "id": "e66479bc",
   "metadata": {},
   "outputs": [
    {
     "data": {
      "text/plain": [
       "0.825"
      ]
     },
     "execution_count": 14,
     "metadata": {},
     "output_type": "execute_result"
    }
   ],
   "source": [
    "from sklearn.metrics import accuracy_score\n",
    "acc=accuracy_score(y_train,y_pred)\n",
    "acc"
   ]
  },
  {
   "cell_type": "code",
   "execution_count": 15,
   "id": "747328d4",
   "metadata": {},
   "outputs": [
    {
     "data": {
      "text/plain": [
       "array([[ 0, 14],\n",
       "       [ 0, 66]], dtype=int64)"
      ]
     },
     "execution_count": 15,
     "metadata": {},
     "output_type": "execute_result"
    }
   ],
   "source": [
    "from sklearn.metrics import confusion_matrix\n",
    "cm=confusion_matrix(y_train,y_pred)\n",
    "cm"
   ]
  },
  {
   "cell_type": "code",
   "execution_count": 16,
   "id": "867d0ff6",
   "metadata": {},
   "outputs": [
    {
     "data": {
      "text/plain": [
       "'              precision    recall  f1-score   support\\n\\n           0       0.00      0.00      0.00        14\\n           1       0.82      1.00      0.90        66\\n\\n    accuracy                           0.82        80\\n   macro avg       0.41      0.50      0.45        80\\nweighted avg       0.68      0.82      0.75        80\\n'"
      ]
     },
     "execution_count": 16,
     "metadata": {},
     "output_type": "execute_result"
    }
   ],
   "source": [
    "from sklearn.metrics import classification_report\n",
    "report=classification_report(y_train,y_pred)\n",
    "report"
   ]
  },
  {
   "cell_type": "code",
   "execution_count": 17,
   "id": "bc551c50",
   "metadata": {},
   "outputs": [],
   "source": [
    "from sklearn.svm import SVC\n",
    "svc=SVC(C= 0.1, gamma= 'auto', kernel='rbf')\n",
    "svc.fit(X_train,y_train)\n",
    "y_pred=svc.predict(X_train)"
   ]
  },
  {
   "cell_type": "code",
   "execution_count": 18,
   "id": "4fb16d30",
   "metadata": {},
   "outputs": [
    {
     "data": {
      "text/plain": [
       "0.825"
      ]
     },
     "execution_count": 18,
     "metadata": {},
     "output_type": "execute_result"
    }
   ],
   "source": [
    "from sklearn.metrics import accuracy_score\n",
    "acc=accuracy_score(y_train,y_pred)\n",
    "acc"
   ]
  },
  {
   "cell_type": "code",
   "execution_count": 19,
   "id": "594299b1",
   "metadata": {},
   "outputs": [
    {
     "data": {
      "text/plain": [
       "array([[ 0, 14],\n",
       "       [ 0, 66]], dtype=int64)"
      ]
     },
     "execution_count": 19,
     "metadata": {},
     "output_type": "execute_result"
    }
   ],
   "source": [
    "from sklearn.metrics import confusion_matrix\n",
    "cm=confusion_matrix(y_train,y_pred)\n",
    "cm"
   ]
  },
  {
   "cell_type": "code",
   "execution_count": 20,
   "id": "48b01012",
   "metadata": {},
   "outputs": [
    {
     "data": {
      "text/plain": [
       "'              precision    recall  f1-score   support\\n\\n           0       0.00      0.00      0.00        14\\n           1       0.82      1.00      0.90        66\\n\\n    accuracy                           0.82        80\\n   macro avg       0.41      0.50      0.45        80\\nweighted avg       0.68      0.82      0.75        80\\n'"
      ]
     },
     "execution_count": 20,
     "metadata": {},
     "output_type": "execute_result"
    }
   ],
   "source": [
    "from sklearn.metrics import classification_report\n",
    "report=classification_report(y_train,y_pred)\n",
    "report"
   ]
  },
  {
   "cell_type": "code",
   "execution_count": 21,
   "id": "ba18ebeb",
   "metadata": {},
   "outputs": [
    {
     "name": "stdout",
     "output_type": "stream",
     "text": [
      "best params: {'C': 0.1, 'gamma': 'auto', 'kernel': 'rbf'}\n",
      "best score: 0.825\n"
     ]
    }
   ],
   "source": [
    "from sklearn.model_selection import GridSearchCV\n",
    "params={\"C\":[0.1,0.001],\"kernel\":[\"rbf\",\"linear\"],\"gamma\":[\"auto\",\"scale\"]}\n",
    "grid=GridSearchCV(estimator=svc,param_grid=params,cv=5)\n",
    "grid.fit(X_train,y_train)\n",
    "print(\"best params:\",grid.best_params_)\n",
    "print(\"best score:\",grid.best_score_)"
   ]
  },
  {
   "cell_type": "code",
   "execution_count": 22,
   "id": "35c4e861",
   "metadata": {},
   "outputs": [],
   "source": [
    "from sklearn.neighbors import KNeighborsClassifier\n",
    "knn=KNeighborsClassifier()\n",
    "knn.fit(X_train,y_train)\n",
    "y_pred=knn.predict(X_train)"
   ]
  },
  {
   "cell_type": "code",
   "execution_count": 23,
   "id": "55d78f1c",
   "metadata": {},
   "outputs": [
    {
     "data": {
      "text/plain": [
       "0.825"
      ]
     },
     "execution_count": 23,
     "metadata": {},
     "output_type": "execute_result"
    }
   ],
   "source": [
    "from sklearn.metrics import accuracy_score\n",
    "acc=accuracy_score(y_train,y_pred)\n",
    "acc"
   ]
  },
  {
   "cell_type": "code",
   "execution_count": 24,
   "id": "9127591b",
   "metadata": {},
   "outputs": [
    {
     "data": {
      "text/plain": [
       "array([[ 0, 14],\n",
       "       [ 0, 66]], dtype=int64)"
      ]
     },
     "execution_count": 24,
     "metadata": {},
     "output_type": "execute_result"
    }
   ],
   "source": [
    "from sklearn.metrics import confusion_matrix\n",
    "cm=confusion_matrix(y_train,y_pred)\n",
    "cm"
   ]
  },
  {
   "cell_type": "code",
   "execution_count": 25,
   "id": "9604bd53",
   "metadata": {},
   "outputs": [
    {
     "data": {
      "text/plain": [
       "'              precision    recall  f1-score   support\\n\\n           0       0.00      0.00      0.00        14\\n           1       0.82      1.00      0.90        66\\n\\n    accuracy                           0.82        80\\n   macro avg       0.41      0.50      0.45        80\\nweighted avg       0.68      0.82      0.75        80\\n'"
      ]
     },
     "execution_count": 25,
     "metadata": {},
     "output_type": "execute_result"
    }
   ],
   "source": [
    "from sklearn.metrics import classification_report\n",
    "report=classification_report(y_train,y_pred)\n",
    "report"
   ]
  },
  {
   "cell_type": "code",
   "execution_count": 26,
   "id": "5d484d8c",
   "metadata": {},
   "outputs": [
    {
     "name": "stdout",
     "output_type": "stream",
     "text": [
      "best_score: 0.825\n",
      "best_params: {'n_neighbors': 5, 'weights': 'uniform'}\n"
     ]
    }
   ],
   "source": [
    "from sklearn.model_selection import GridSearchCV\n",
    "params={\"n_neighbors\":[5,7,10],\"weights\":[\"uniform\",\"distance\"]}\n",
    "grid=GridSearchCV(estimator=knn,param_grid=params,cv=5)\n",
    "grid.fit(X_train,y_train)\n",
    "print(\"best_score:\",grid.best_score_)\n",
    "print(\"best_params:\",grid.best_params_)"
   ]
  },
  {
   "cell_type": "code",
   "execution_count": 27,
   "id": "859535ab",
   "metadata": {},
   "outputs": [],
   "source": [
    "from sklearn.tree import DecisionTreeClassifier\n",
    "dtree=DecisionTreeClassifier()\n",
    "dtree.fit(X_train,y_train)\n",
    "y_pred=dtree.predict(X_train)"
   ]
  },
  {
   "cell_type": "code",
   "execution_count": 28,
   "id": "f737b5c5",
   "metadata": {},
   "outputs": [
    {
     "data": {
      "text/plain": [
       "1.0"
      ]
     },
     "execution_count": 28,
     "metadata": {},
     "output_type": "execute_result"
    }
   ],
   "source": [
    "from sklearn.metrics import accuracy_score\n",
    "acc=accuracy_score(y_train,y_pred)\n",
    "acc"
   ]
  },
  {
   "cell_type": "code",
   "execution_count": 29,
   "id": "ded93b3a",
   "metadata": {},
   "outputs": [
    {
     "data": {
      "text/plain": [
       "array([[14,  0],\n",
       "       [ 0, 66]], dtype=int64)"
      ]
     },
     "execution_count": 29,
     "metadata": {},
     "output_type": "execute_result"
    }
   ],
   "source": [
    "from sklearn.metrics import confusion_matrix\n",
    "cm=confusion_matrix(y_train,y_pred)\n",
    "cm"
   ]
  },
  {
   "cell_type": "code",
   "execution_count": 30,
   "id": "577fe9bd",
   "metadata": {},
   "outputs": [
    {
     "data": {
      "text/plain": [
       "'              precision    recall  f1-score   support\\n\\n           0       1.00      1.00      1.00        14\\n           1       1.00      1.00      1.00        66\\n\\n    accuracy                           1.00        80\\n   macro avg       1.00      1.00      1.00        80\\nweighted avg       1.00      1.00      1.00        80\\n'"
      ]
     },
     "execution_count": 30,
     "metadata": {},
     "output_type": "execute_result"
    }
   ],
   "source": [
    "from sklearn.metrics import classification_report\n",
    "report=classification_report(y_train,y_pred)\n",
    "report"
   ]
  },
  {
   "cell_type": "code",
   "execution_count": 31,
   "id": "ece32fb4",
   "metadata": {},
   "outputs": [
    {
     "name": "stdout",
     "output_type": "stream",
     "text": [
      "best_score: 0.825\n",
      "best_params: {'min_samples_split': 2, 'min_samples_leaf': 5, 'max_depth': 3, 'criterion': 'entropy'}\n"
     ]
    }
   ],
   "source": [
    "from sklearn.model_selection import RandomizedSearchCV\n",
    "params={'criterion': ['gini', 'entropy'],\n",
    "    'max_depth':[1,3,5,7,10],\n",
    "    'min_samples_split':[2,5,6,10,15, 20],\n",
    "    'min_samples_leaf':[2,5,6,10]}\n",
    "random=RandomizedSearchCV(estimator=dtree,param_distributions=params,cv=5)\n",
    "random.fit(X_train,y_train)\n",
    "print(\"best_score:\",random.best_score_)\n",
    "print(\"best_params:\",random.best_params_)"
   ]
  },
  {
   "cell_type": "code",
   "execution_count": 32,
   "id": "7e9ac4da",
   "metadata": {},
   "outputs": [],
   "source": [
    "from sklearn.ensemble import RandomForestClassifier\n",
    "rndf=RandomForestClassifier()\n",
    "rndf.fit(X_train,y_train)\n",
    "y_pred=rndf.predict(X_train)"
   ]
  },
  {
   "cell_type": "code",
   "execution_count": 33,
   "id": "ebd0533b",
   "metadata": {},
   "outputs": [
    {
     "data": {
      "text/plain": [
       "1.0"
      ]
     },
     "execution_count": 33,
     "metadata": {},
     "output_type": "execute_result"
    }
   ],
   "source": [
    "from sklearn.metrics import accuracy_score\n",
    "acc=accuracy_score(y_train,y_pred)\n",
    "acc"
   ]
  },
  {
   "cell_type": "code",
   "execution_count": 34,
   "id": "87db925c",
   "metadata": {},
   "outputs": [
    {
     "data": {
      "text/plain": [
       "array([[14,  0],\n",
       "       [ 0, 66]], dtype=int64)"
      ]
     },
     "execution_count": 34,
     "metadata": {},
     "output_type": "execute_result"
    }
   ],
   "source": [
    "from sklearn.metrics import confusion_matrix\n",
    "cm=confusion_matrix(y_train,y_pred)\n",
    "cm"
   ]
  },
  {
   "cell_type": "code",
   "execution_count": 35,
   "id": "bb2782ba",
   "metadata": {},
   "outputs": [
    {
     "data": {
      "text/plain": [
       "'              precision    recall  f1-score   support\\n\\n           0       1.00      1.00      1.00        14\\n           1       1.00      1.00      1.00        66\\n\\n    accuracy                           1.00        80\\n   macro avg       1.00      1.00      1.00        80\\nweighted avg       1.00      1.00      1.00        80\\n'"
      ]
     },
     "execution_count": 35,
     "metadata": {},
     "output_type": "execute_result"
    }
   ],
   "source": [
    "from sklearn.metrics import classification_report\n",
    "report=classification_report(y_train,y_pred)\n",
    "report"
   ]
  },
  {
   "cell_type": "code",
   "execution_count": 36,
   "id": "520bf5e6",
   "metadata": {},
   "outputs": [
    {
     "name": "stdout",
     "output_type": "stream",
     "text": [
      "best_score: 0.825\n",
      "best_params: {'n_estimators': 100, 'min_samples_split': 5, 'min_samples_leaf': 10, 'max_depth': 1, 'criterion': 'entropy'}\n"
     ]
    }
   ],
   "source": [
    "from sklearn.model_selection import RandomizedSearchCV\n",
    "params={'n_estimators':[100, 1000],\n",
    "    'criterion': ['gini', 'entropy'],\n",
    "    'max_depth':[1,3,5,7,10],\n",
    "    'min_samples_split':[2,5,6,10,15, 20],\n",
    "    'min_samples_leaf':[2,5,6,10]}\n",
    "random=RandomizedSearchCV(estimator=rndf,param_distributions=params,cv=5)\n",
    "random.fit(X_train,y_train)\n",
    "print(\"best_score:\",random.best_score_)\n",
    "print(\"best_params:\",random.best_params_)"
   ]
  },
  {
   "cell_type": "code",
   "execution_count": 37,
   "id": "3700e4c5",
   "metadata": {},
   "outputs": [],
   "source": [
    "from xgboost import XGBClassifier\n",
    "xgb=XGBClassifier()\n",
    "xgb.fit(X_train,y_train)\n",
    "y_pred=xgb.predict(X_train)"
   ]
  },
  {
   "cell_type": "code",
   "execution_count": 38,
   "id": "44ca18e2",
   "metadata": {},
   "outputs": [
    {
     "data": {
      "text/plain": [
       "0.825"
      ]
     },
     "execution_count": 38,
     "metadata": {},
     "output_type": "execute_result"
    }
   ],
   "source": [
    "from sklearn.metrics import accuracy_score\n",
    "acc=accuracy_score(y_train,y_pred)\n",
    "acc"
   ]
  },
  {
   "cell_type": "code",
   "execution_count": 39,
   "id": "82cd6629",
   "metadata": {},
   "outputs": [
    {
     "data": {
      "text/plain": [
       "array([[ 0, 14],\n",
       "       [ 0, 66]], dtype=int64)"
      ]
     },
     "execution_count": 39,
     "metadata": {},
     "output_type": "execute_result"
    }
   ],
   "source": [
    "from sklearn.metrics import confusion_matrix\n",
    "cm=confusion_matrix(y_train,y_pred)\n",
    "cm"
   ]
  },
  {
   "cell_type": "code",
   "execution_count": 40,
   "id": "e946b69e",
   "metadata": {},
   "outputs": [
    {
     "data": {
      "text/plain": [
       "'              precision    recall  f1-score   support\\n\\n           0       0.00      0.00      0.00        14\\n           1       0.82      1.00      0.90        66\\n\\n    accuracy                           0.82        80\\n   macro avg       0.41      0.50      0.45        80\\nweighted avg       0.68      0.82      0.75        80\\n'"
      ]
     },
     "execution_count": 40,
     "metadata": {},
     "output_type": "execute_result"
    }
   ],
   "source": [
    "from sklearn.metrics import classification_report\n",
    "report=classification_report(y_train,y_pred)\n",
    "report"
   ]
  },
  {
   "cell_type": "markdown",
   "id": "0f791986",
   "metadata": {},
   "source": [
    "Amazon Grocery DataSet"
   ]
  },
  {
   "cell_type": "code",
   "execution_count": 41,
   "id": "ede43e54",
   "metadata": {},
   "outputs": [
    {
     "data": {
      "text/html": [
       "<div>\n",
       "<style scoped>\n",
       "    .dataframe tbody tr th:only-of-type {\n",
       "        vertical-align: middle;\n",
       "    }\n",
       "\n",
       "    .dataframe tbody tr th {\n",
       "        vertical-align: top;\n",
       "    }\n",
       "\n",
       "    .dataframe thead th {\n",
       "        text-align: right;\n",
       "    }\n",
       "</style>\n",
       "<table border=\"1\" class=\"dataframe\">\n",
       "  <thead>\n",
       "    <tr style=\"text-align: right;\">\n",
       "      <th></th>\n",
       "      <th>Unnamed: 0</th>\n",
       "      <th>market_place</th>\n",
       "      <th>customer_id</th>\n",
       "      <th>review_id</th>\n",
       "      <th>product_id</th>\n",
       "      <th>product_parent</th>\n",
       "      <th>product_title</th>\n",
       "      <th>product_category</th>\n",
       "      <th>star_rating</th>\n",
       "      <th>helpful_votes</th>\n",
       "      <th>total_votes</th>\n",
       "      <th>vine</th>\n",
       "      <th>verified_purchase</th>\n",
       "      <th>review_headline</th>\n",
       "      <th>review_body</th>\n",
       "      <th>review_date</th>\n",
       "      <th>Sentiment_grcry</th>\n",
       "    </tr>\n",
       "  </thead>\n",
       "  <tbody>\n",
       "    <tr>\n",
       "      <th>0</th>\n",
       "      <td>0</td>\n",
       "      <td>\"US\"</td>\n",
       "      <td>\"42521656\"</td>\n",
       "      <td>\"R26MV8D0KG6QI6\"</td>\n",
       "      <td>\"B000SAQCWC\"</td>\n",
       "      <td>\"159713740\"</td>\n",
       "      <td>\"The Cravings Place Chocolate Chunk Cookie Mix...</td>\n",
       "      <td>\"Grocery\"</td>\n",
       "      <td>1</td>\n",
       "      <td>0</td>\n",
       "      <td>0</td>\n",
       "      <td>0 \\t(N)</td>\n",
       "      <td>1 \\t(Y)</td>\n",
       "      <td>\"Using these for years - love them.\"</td>\n",
       "      <td>\"As a family allergic to wheat, dairy, eggs, n...</td>\n",
       "      <td>2015-08-31</td>\n",
       "      <td>positive</td>\n",
       "    </tr>\n",
       "    <tr>\n",
       "      <th>1</th>\n",
       "      <td>1</td>\n",
       "      <td>\"US\"</td>\n",
       "      <td>\"12049833\"</td>\n",
       "      <td>\"R1OF8GP57AQ1A0\"</td>\n",
       "      <td>\"B00509LVIQ\"</td>\n",
       "      <td>\"138680402\"</td>\n",
       "      <td>\"Mauna Loa Macadamias, 11 Ounce Packages\"</td>\n",
       "      <td>\"Grocery\"</td>\n",
       "      <td>1</td>\n",
       "      <td>0</td>\n",
       "      <td>0</td>\n",
       "      <td>0 \\t(N)</td>\n",
       "      <td>1 \\t(Y)</td>\n",
       "      <td>\"Wonderful\"</td>\n",
       "      <td>\"My favorite nut. Creamy, crunchy, salty, and ...</td>\n",
       "      <td>2015-08-31</td>\n",
       "      <td>positive</td>\n",
       "    </tr>\n",
       "    <tr>\n",
       "      <th>2</th>\n",
       "      <td>2</td>\n",
       "      <td>\"US\"</td>\n",
       "      <td>\"107642\"</td>\n",
       "      <td>\"R3VDC1QB6MC4ZZ\"</td>\n",
       "      <td>\"B00KHXESLC\"</td>\n",
       "      <td>\"252021703\"</td>\n",
       "      <td>\"Organic Matcha Green Tea Powder - 100% Pure M...</td>\n",
       "      <td>\"Grocery\"</td>\n",
       "      <td>1</td>\n",
       "      <td>0</td>\n",
       "      <td>0</td>\n",
       "      <td>0 \\t(N)</td>\n",
       "      <td>0 \\t(N)</td>\n",
       "      <td>\"Five Stars\"</td>\n",
       "      <td>\"This green tea tastes so good! My girlfriend ...</td>\n",
       "      <td>2015-08-31</td>\n",
       "      <td>positive</td>\n",
       "    </tr>\n",
       "    <tr>\n",
       "      <th>3</th>\n",
       "      <td>3</td>\n",
       "      <td>\"US\"</td>\n",
       "      <td>\"6042304\"</td>\n",
       "      <td>\"R12FA3DCF8F9ER\"</td>\n",
       "      <td>\"B000F8JIIC\"</td>\n",
       "      <td>\"752728342\"</td>\n",
       "      <td>\"15oz Raspberry Lyons Designer Dessert Syrup S...</td>\n",
       "      <td>\"Grocery\"</td>\n",
       "      <td>1</td>\n",
       "      <td>0</td>\n",
       "      <td>0</td>\n",
       "      <td>0 \\t(N)</td>\n",
       "      <td>1 \\t(Y)</td>\n",
       "      <td>\"Five Stars\"</td>\n",
       "      <td>\"I love Melissa's brand but this is a great se...</td>\n",
       "      <td>2015-08-31</td>\n",
       "      <td>positive</td>\n",
       "    </tr>\n",
       "    <tr>\n",
       "      <th>4</th>\n",
       "      <td>4</td>\n",
       "      <td>\"US\"</td>\n",
       "      <td>\"18123821\"</td>\n",
       "      <td>\"RTWHVNV6X4CNJ\"</td>\n",
       "      <td>\"B004ZWR9RQ\"</td>\n",
       "      <td>\"552138758\"</td>\n",
       "      <td>\"Stride Spark Kinetic Fruit Sugar Free Gum, 14...</td>\n",
       "      <td>\"Grocery\"</td>\n",
       "      <td>1</td>\n",
       "      <td>0</td>\n",
       "      <td>0</td>\n",
       "      <td>0 \\t(N)</td>\n",
       "      <td>1 \\t(Y)</td>\n",
       "      <td>\"Five Stars\"</td>\n",
       "      <td>\"good\"</td>\n",
       "      <td>2015-08-31</td>\n",
       "      <td>positive</td>\n",
       "    </tr>\n",
       "    <tr>\n",
       "      <th>...</th>\n",
       "      <td>...</td>\n",
       "      <td>...</td>\n",
       "      <td>...</td>\n",
       "      <td>...</td>\n",
       "      <td>...</td>\n",
       "      <td>...</td>\n",
       "      <td>...</td>\n",
       "      <td>...</td>\n",
       "      <td>...</td>\n",
       "      <td>...</td>\n",
       "      <td>...</td>\n",
       "      <td>...</td>\n",
       "      <td>...</td>\n",
       "      <td>...</td>\n",
       "      <td>...</td>\n",
       "      <td>...</td>\n",
       "      <td>...</td>\n",
       "    </tr>\n",
       "    <tr>\n",
       "      <th>95</th>\n",
       "      <td>95</td>\n",
       "      <td>\"US\"</td>\n",
       "      <td>\"41855640\"</td>\n",
       "      <td>\"R14RNK4F6OPVHI\"</td>\n",
       "      <td>\"B00MGDVYCM\"</td>\n",
       "      <td>\"527526119\"</td>\n",
       "      <td>\"Emerald Cocoa Roast Dark Chocolate Almonds - ...</td>\n",
       "      <td>\"Grocery\"</td>\n",
       "      <td>1</td>\n",
       "      <td>0</td>\n",
       "      <td>0</td>\n",
       "      <td>0 \\t(N)</td>\n",
       "      <td>1 \\t(Y)</td>\n",
       "      <td>\"Five Stars\"</td>\n",
       "      <td>\"Delicious\"</td>\n",
       "      <td>2015-08-31</td>\n",
       "      <td>positive</td>\n",
       "    </tr>\n",
       "    <tr>\n",
       "      <th>96</th>\n",
       "      <td>96</td>\n",
       "      <td>\"US\"</td>\n",
       "      <td>\"13730310\"</td>\n",
       "      <td>\"R29XUIKKYB1SVA\"</td>\n",
       "      <td>\"B00NESWWIS\"</td>\n",
       "      <td>\"807933739\"</td>\n",
       "      <td>\"Fiber One Chewy Bars Oats &amp; Chocolate: 36 Bar...</td>\n",
       "      <td>\"Grocery\"</td>\n",
       "      <td>1</td>\n",
       "      <td>2</td>\n",
       "      <td>3</td>\n",
       "      <td>0 \\t(N)</td>\n",
       "      <td>0 \\t(N)</td>\n",
       "      <td>\"Very Satisfying!!\"</td>\n",
       "      <td>\"I needed more fiber in my diet and decided to...</td>\n",
       "      <td>2015-08-31</td>\n",
       "      <td>positive</td>\n",
       "    </tr>\n",
       "    <tr>\n",
       "      <th>97</th>\n",
       "      <td>97</td>\n",
       "      <td>\"US\"</td>\n",
       "      <td>\"48872127\"</td>\n",
       "      <td>\"R22YPES48XVR9Z\"</td>\n",
       "      <td>\"B00O8SQTIM\"</td>\n",
       "      <td>\"46432804\"</td>\n",
       "      <td>\"Gerber Good Start Infant Formula Sample Box\"</td>\n",
       "      <td>\"Grocery\"</td>\n",
       "      <td>0</td>\n",
       "      <td>0</td>\n",
       "      <td>0</td>\n",
       "      <td>0 \\t(N)</td>\n",
       "      <td>0 \\t(N)</td>\n",
       "      <td>\"Okay formula\"</td>\n",
       "      <td>\"Like most working moms, I can't pump enough t...</td>\n",
       "      <td>2015-08-31</td>\n",
       "      <td>negaitve</td>\n",
       "    </tr>\n",
       "    <tr>\n",
       "      <th>98</th>\n",
       "      <td>98</td>\n",
       "      <td>\"US\"</td>\n",
       "      <td>\"12859252\"</td>\n",
       "      <td>\"RTL7D7ONFKQTO\"</td>\n",
       "      <td>\"B0064OLVFY\"</td>\n",
       "      <td>\"518513658\"</td>\n",
       "      <td>\"Cheese Wax 1 lb - Red\"</td>\n",
       "      <td>\"Grocery\"</td>\n",
       "      <td>1</td>\n",
       "      <td>0</td>\n",
       "      <td>0</td>\n",
       "      <td>0 \\t(N)</td>\n",
       "      <td>1 \\t(Y)</td>\n",
       "      <td>\"Five Stars\"</td>\n",
       "      <td>\"Love it!\"</td>\n",
       "      <td>2015-08-31</td>\n",
       "      <td>positive</td>\n",
       "    </tr>\n",
       "    <tr>\n",
       "      <th>99</th>\n",
       "      <td>99</td>\n",
       "      <td>\"US\"</td>\n",
       "      <td>\"33828780\"</td>\n",
       "      <td>\"R2B9WKQP7ZZVPQ\"</td>\n",
       "      <td>\"B006ONNLNA\"</td>\n",
       "      <td>\"702537450\"</td>\n",
       "      <td>\"Gustaf’s Traditional Dutch Authentic Double S...</td>\n",
       "      <td>\"Grocery\"</td>\n",
       "      <td>0</td>\n",
       "      <td>0</td>\n",
       "      <td>5</td>\n",
       "      <td>0 \\t(N)</td>\n",
       "      <td>1 \\t(Y)</td>\n",
       "      <td>\"It's actually TOO salty.\"</td>\n",
       "      <td>\"Not what I expected. Did not like it at all.\"</td>\n",
       "      <td>2015-08-31</td>\n",
       "      <td>negaitve</td>\n",
       "    </tr>\n",
       "  </tbody>\n",
       "</table>\n",
       "<p>100 rows × 17 columns</p>\n",
       "</div>"
      ],
      "text/plain": [
       "    Unnamed: 0 market_place customer_id         review_id    product_id  \\\n",
       "0            0         \"US\"  \"42521656\"  \"R26MV8D0KG6QI6\"  \"B000SAQCWC\"   \n",
       "1            1         \"US\"  \"12049833\"  \"R1OF8GP57AQ1A0\"  \"B00509LVIQ\"   \n",
       "2            2         \"US\"    \"107642\"  \"R3VDC1QB6MC4ZZ\"  \"B00KHXESLC\"   \n",
       "3            3         \"US\"   \"6042304\"  \"R12FA3DCF8F9ER\"  \"B000F8JIIC\"   \n",
       "4            4         \"US\"  \"18123821\"   \"RTWHVNV6X4CNJ\"  \"B004ZWR9RQ\"   \n",
       "..         ...          ...         ...               ...           ...   \n",
       "95          95         \"US\"  \"41855640\"  \"R14RNK4F6OPVHI\"  \"B00MGDVYCM\"   \n",
       "96          96         \"US\"  \"13730310\"  \"R29XUIKKYB1SVA\"  \"B00NESWWIS\"   \n",
       "97          97         \"US\"  \"48872127\"  \"R22YPES48XVR9Z\"  \"B00O8SQTIM\"   \n",
       "98          98         \"US\"  \"12859252\"   \"RTL7D7ONFKQTO\"  \"B0064OLVFY\"   \n",
       "99          99         \"US\"  \"33828780\"  \"R2B9WKQP7ZZVPQ\"  \"B006ONNLNA\"   \n",
       "\n",
       "   product_parent                                      product_title  \\\n",
       "0     \"159713740\"  \"The Cravings Place Chocolate Chunk Cookie Mix...   \n",
       "1     \"138680402\"          \"Mauna Loa Macadamias, 11 Ounce Packages\"   \n",
       "2     \"252021703\"  \"Organic Matcha Green Tea Powder - 100% Pure M...   \n",
       "3     \"752728342\"  \"15oz Raspberry Lyons Designer Dessert Syrup S...   \n",
       "4     \"552138758\"  \"Stride Spark Kinetic Fruit Sugar Free Gum, 14...   \n",
       "..            ...                                                ...   \n",
       "95    \"527526119\"  \"Emerald Cocoa Roast Dark Chocolate Almonds - ...   \n",
       "96    \"807933739\"  \"Fiber One Chewy Bars Oats & Chocolate: 36 Bar...   \n",
       "97     \"46432804\"      \"Gerber Good Start Infant Formula Sample Box\"   \n",
       "98    \"518513658\"                            \"Cheese Wax 1 lb - Red\"   \n",
       "99    \"702537450\"  \"Gustaf’s Traditional Dutch Authentic Double S...   \n",
       "\n",
       "   product_category  star_rating  helpful_votes  total_votes     vine  \\\n",
       "0         \"Grocery\"            1              0            0  0 \\t(N)   \n",
       "1         \"Grocery\"            1              0            0  0 \\t(N)   \n",
       "2         \"Grocery\"            1              0            0  0 \\t(N)   \n",
       "3         \"Grocery\"            1              0            0  0 \\t(N)   \n",
       "4         \"Grocery\"            1              0            0  0 \\t(N)   \n",
       "..              ...          ...            ...          ...      ...   \n",
       "95        \"Grocery\"            1              0            0  0 \\t(N)   \n",
       "96        \"Grocery\"            1              2            3  0 \\t(N)   \n",
       "97        \"Grocery\"            0              0            0  0 \\t(N)   \n",
       "98        \"Grocery\"            1              0            0  0 \\t(N)   \n",
       "99        \"Grocery\"            0              0            5  0 \\t(N)   \n",
       "\n",
       "   verified_purchase                       review_headline  \\\n",
       "0            1 \\t(Y)  \"Using these for years - love them.\"   \n",
       "1            1 \\t(Y)                           \"Wonderful\"   \n",
       "2            0 \\t(N)                          \"Five Stars\"   \n",
       "3            1 \\t(Y)                          \"Five Stars\"   \n",
       "4            1 \\t(Y)                          \"Five Stars\"   \n",
       "..               ...                                   ...   \n",
       "95           1 \\t(Y)                          \"Five Stars\"   \n",
       "96           0 \\t(N)                   \"Very Satisfying!!\"   \n",
       "97           0 \\t(N)                        \"Okay formula\"   \n",
       "98           1 \\t(Y)                          \"Five Stars\"   \n",
       "99           1 \\t(Y)            \"It's actually TOO salty.\"   \n",
       "\n",
       "                                          review_body review_date  \\\n",
       "0   \"As a family allergic to wheat, dairy, eggs, n...  2015-08-31   \n",
       "1   \"My favorite nut. Creamy, crunchy, salty, and ...  2015-08-31   \n",
       "2   \"This green tea tastes so good! My girlfriend ...  2015-08-31   \n",
       "3   \"I love Melissa's brand but this is a great se...  2015-08-31   \n",
       "4                                              \"good\"  2015-08-31   \n",
       "..                                                ...         ...   \n",
       "95                                        \"Delicious\"  2015-08-31   \n",
       "96  \"I needed more fiber in my diet and decided to...  2015-08-31   \n",
       "97  \"Like most working moms, I can't pump enough t...  2015-08-31   \n",
       "98                                         \"Love it!\"  2015-08-31   \n",
       "99     \"Not what I expected. Did not like it at all.\"  2015-08-31   \n",
       "\n",
       "   Sentiment_grcry  \n",
       "0         positive  \n",
       "1         positive  \n",
       "2         positive  \n",
       "3         positive  \n",
       "4         positive  \n",
       "..             ...  \n",
       "95        positive  \n",
       "96        positive  \n",
       "97        negaitve  \n",
       "98        positive  \n",
       "99        negaitve  \n",
       "\n",
       "[100 rows x 17 columns]"
      ]
     },
     "execution_count": 41,
     "metadata": {},
     "output_type": "execute_result"
    }
   ],
   "source": [
    "data2=pd.read_csv(r\"Downloads\\amazon_grocery_Data.csv\")\n",
    "data2"
   ]
  },
  {
   "cell_type": "code",
   "execution_count": 42,
   "id": "fcf2197a",
   "metadata": {},
   "outputs": [
    {
     "data": {
      "text/html": [
       "<div>\n",
       "<style scoped>\n",
       "    .dataframe tbody tr th:only-of-type {\n",
       "        vertical-align: middle;\n",
       "    }\n",
       "\n",
       "    .dataframe tbody tr th {\n",
       "        vertical-align: top;\n",
       "    }\n",
       "\n",
       "    .dataframe thead th {\n",
       "        text-align: right;\n",
       "    }\n",
       "</style>\n",
       "<table border=\"1\" class=\"dataframe\">\n",
       "  <thead>\n",
       "    <tr style=\"text-align: right;\">\n",
       "      <th></th>\n",
       "      <th>review_body</th>\n",
       "      <th>Sentiment_grcry</th>\n",
       "    </tr>\n",
       "  </thead>\n",
       "  <tbody>\n",
       "    <tr>\n",
       "      <th>0</th>\n",
       "      <td>\"As a family allergic to wheat, dairy, eggs, n...</td>\n",
       "      <td>positive</td>\n",
       "    </tr>\n",
       "    <tr>\n",
       "      <th>1</th>\n",
       "      <td>\"My favorite nut. Creamy, crunchy, salty, and ...</td>\n",
       "      <td>positive</td>\n",
       "    </tr>\n",
       "    <tr>\n",
       "      <th>2</th>\n",
       "      <td>\"This green tea tastes so good! My girlfriend ...</td>\n",
       "      <td>positive</td>\n",
       "    </tr>\n",
       "    <tr>\n",
       "      <th>3</th>\n",
       "      <td>\"I love Melissa's brand but this is a great se...</td>\n",
       "      <td>positive</td>\n",
       "    </tr>\n",
       "    <tr>\n",
       "      <th>4</th>\n",
       "      <td>\"good\"</td>\n",
       "      <td>positive</td>\n",
       "    </tr>\n",
       "    <tr>\n",
       "      <th>...</th>\n",
       "      <td>...</td>\n",
       "      <td>...</td>\n",
       "    </tr>\n",
       "    <tr>\n",
       "      <th>95</th>\n",
       "      <td>\"Delicious\"</td>\n",
       "      <td>positive</td>\n",
       "    </tr>\n",
       "    <tr>\n",
       "      <th>96</th>\n",
       "      <td>\"I needed more fiber in my diet and decided to...</td>\n",
       "      <td>positive</td>\n",
       "    </tr>\n",
       "    <tr>\n",
       "      <th>97</th>\n",
       "      <td>\"Like most working moms, I can't pump enough t...</td>\n",
       "      <td>negaitve</td>\n",
       "    </tr>\n",
       "    <tr>\n",
       "      <th>98</th>\n",
       "      <td>\"Love it!\"</td>\n",
       "      <td>positive</td>\n",
       "    </tr>\n",
       "    <tr>\n",
       "      <th>99</th>\n",
       "      <td>\"Not what I expected. Did not like it at all.\"</td>\n",
       "      <td>negaitve</td>\n",
       "    </tr>\n",
       "  </tbody>\n",
       "</table>\n",
       "<p>100 rows × 2 columns</p>\n",
       "</div>"
      ],
      "text/plain": [
       "                                          review_body Sentiment_grcry\n",
       "0   \"As a family allergic to wheat, dairy, eggs, n...        positive\n",
       "1   \"My favorite nut. Creamy, crunchy, salty, and ...        positive\n",
       "2   \"This green tea tastes so good! My girlfriend ...        positive\n",
       "3   \"I love Melissa's brand but this is a great se...        positive\n",
       "4                                              \"good\"        positive\n",
       "..                                                ...             ...\n",
       "95                                        \"Delicious\"        positive\n",
       "96  \"I needed more fiber in my diet and decided to...        positive\n",
       "97  \"Like most working moms, I can't pump enough t...        negaitve\n",
       "98                                         \"Love it!\"        positive\n",
       "99     \"Not what I expected. Did not like it at all.\"        negaitve\n",
       "\n",
       "[100 rows x 2 columns]"
      ]
     },
     "execution_count": 42,
     "metadata": {},
     "output_type": "execute_result"
    }
   ],
   "source": [
    "df2=data2.iloc[:,[-3,-1]]\n",
    "df2"
   ]
  },
  {
   "cell_type": "code",
   "execution_count": 43,
   "id": "5731cbb8",
   "metadata": {},
   "outputs": [],
   "source": [
    "from sklearn.preprocessing import LabelEncoder\n",
    "label=LabelEncoder()\n",
    "df2.iloc[:,-1]=label.fit_transform(df2.iloc[:,-1])"
   ]
  },
  {
   "cell_type": "code",
   "execution_count": 44,
   "id": "32c8bfaf",
   "metadata": {},
   "outputs": [
    {
     "data": {
      "text/html": [
       "<div>\n",
       "<style scoped>\n",
       "    .dataframe tbody tr th:only-of-type {\n",
       "        vertical-align: middle;\n",
       "    }\n",
       "\n",
       "    .dataframe tbody tr th {\n",
       "        vertical-align: top;\n",
       "    }\n",
       "\n",
       "    .dataframe thead th {\n",
       "        text-align: right;\n",
       "    }\n",
       "</style>\n",
       "<table border=\"1\" class=\"dataframe\">\n",
       "  <thead>\n",
       "    <tr style=\"text-align: right;\">\n",
       "      <th></th>\n",
       "      <th>review_body</th>\n",
       "      <th>Sentiment_grcry</th>\n",
       "    </tr>\n",
       "  </thead>\n",
       "  <tbody>\n",
       "    <tr>\n",
       "      <th>0</th>\n",
       "      <td>\"As a family allergic to wheat, dairy, eggs, n...</td>\n",
       "      <td>1</td>\n",
       "    </tr>\n",
       "    <tr>\n",
       "      <th>1</th>\n",
       "      <td>\"My favorite nut. Creamy, crunchy, salty, and ...</td>\n",
       "      <td>1</td>\n",
       "    </tr>\n",
       "    <tr>\n",
       "      <th>2</th>\n",
       "      <td>\"This green tea tastes so good! My girlfriend ...</td>\n",
       "      <td>1</td>\n",
       "    </tr>\n",
       "    <tr>\n",
       "      <th>3</th>\n",
       "      <td>\"I love Melissa's brand but this is a great se...</td>\n",
       "      <td>1</td>\n",
       "    </tr>\n",
       "    <tr>\n",
       "      <th>4</th>\n",
       "      <td>\"good\"</td>\n",
       "      <td>1</td>\n",
       "    </tr>\n",
       "    <tr>\n",
       "      <th>...</th>\n",
       "      <td>...</td>\n",
       "      <td>...</td>\n",
       "    </tr>\n",
       "    <tr>\n",
       "      <th>95</th>\n",
       "      <td>\"Delicious\"</td>\n",
       "      <td>1</td>\n",
       "    </tr>\n",
       "    <tr>\n",
       "      <th>96</th>\n",
       "      <td>\"I needed more fiber in my diet and decided to...</td>\n",
       "      <td>1</td>\n",
       "    </tr>\n",
       "    <tr>\n",
       "      <th>97</th>\n",
       "      <td>\"Like most working moms, I can't pump enough t...</td>\n",
       "      <td>0</td>\n",
       "    </tr>\n",
       "    <tr>\n",
       "      <th>98</th>\n",
       "      <td>\"Love it!\"</td>\n",
       "      <td>1</td>\n",
       "    </tr>\n",
       "    <tr>\n",
       "      <th>99</th>\n",
       "      <td>\"Not what I expected. Did not like it at all.\"</td>\n",
       "      <td>0</td>\n",
       "    </tr>\n",
       "  </tbody>\n",
       "</table>\n",
       "<p>100 rows × 2 columns</p>\n",
       "</div>"
      ],
      "text/plain": [
       "                                          review_body  Sentiment_grcry\n",
       "0   \"As a family allergic to wheat, dairy, eggs, n...                1\n",
       "1   \"My favorite nut. Creamy, crunchy, salty, and ...                1\n",
       "2   \"This green tea tastes so good! My girlfriend ...                1\n",
       "3   \"I love Melissa's brand but this is a great se...                1\n",
       "4                                              \"good\"                1\n",
       "..                                                ...              ...\n",
       "95                                        \"Delicious\"                1\n",
       "96  \"I needed more fiber in my diet and decided to...                1\n",
       "97  \"Like most working moms, I can't pump enough t...                0\n",
       "98                                         \"Love it!\"                1\n",
       "99     \"Not what I expected. Did not like it at all.\"                0\n",
       "\n",
       "[100 rows x 2 columns]"
      ]
     },
     "execution_count": 44,
     "metadata": {},
     "output_type": "execute_result"
    }
   ],
   "source": [
    "df2"
   ]
  },
  {
   "cell_type": "code",
   "execution_count": 45,
   "id": "0e831cc7",
   "metadata": {},
   "outputs": [],
   "source": [
    "import re\n",
    "import nltk\n",
    "from nltk.corpus import stopwords\n",
    "from nltk.stem import PorterStemmer"
   ]
  },
  {
   "cell_type": "code",
   "execution_count": 46,
   "id": "db7ed98e",
   "metadata": {},
   "outputs": [],
   "source": [
    "corpus2=[]\n",
    "for i in range(0,100):\n",
    "    reviews=re.sub(\"^A-Za-z\",' ',df2['review_body'][i])\n",
    "    reviews=reviews.lower()\n",
    "    reviews=reviews.split()\n",
    "    pst=PorterStemmer()\n",
    "    reviews=[pst.stem(word)for word in reviews if word not in set(stopwords.words(\"english\"))]\n",
    "    reviews=' '.join(reviews)\n",
    "    corpus2.append(reviews)"
   ]
  },
  {
   "cell_type": "code",
   "execution_count": 47,
   "id": "f9986841",
   "metadata": {},
   "outputs": [],
   "source": [
    "from sklearn.feature_extraction.text import CountVectorizer\n",
    "cv=CountVectorizer()\n",
    "X=cv.fit_transform(corpus2).toarray()\n",
    "y=df2.iloc[:,-1].values"
   ]
  },
  {
   "cell_type": "code",
   "execution_count": 48,
   "id": "96718d7c",
   "metadata": {},
   "outputs": [],
   "source": [
    "from sklearn.naive_bayes import BernoulliNB\n",
    "ber=BernoulliNB()\n",
    "ber.fit(X_train,y_train)\n",
    "y_pred=ber.predict(X_train)"
   ]
  },
  {
   "cell_type": "code",
   "execution_count": 49,
   "id": "c93c3abf",
   "metadata": {},
   "outputs": [
    {
     "data": {
      "text/plain": [
       "0.825"
      ]
     },
     "execution_count": 49,
     "metadata": {},
     "output_type": "execute_result"
    }
   ],
   "source": [
    "from sklearn.metrics import accuracy_score\n",
    "acc=accuracy_score(y_train,y_pred)\n",
    "acc"
   ]
  },
  {
   "cell_type": "code",
   "execution_count": 50,
   "id": "4f5625df",
   "metadata": {},
   "outputs": [
    {
     "data": {
      "text/plain": [
       "array([[ 0, 14],\n",
       "       [ 0, 66]], dtype=int64)"
      ]
     },
     "execution_count": 50,
     "metadata": {},
     "output_type": "execute_result"
    }
   ],
   "source": [
    "from sklearn.metrics import confusion_matrix\n",
    "cm=confusion_matrix(y_train,y_pred)\n",
    "cm"
   ]
  },
  {
   "cell_type": "code",
   "execution_count": 51,
   "id": "a15f0719",
   "metadata": {},
   "outputs": [
    {
     "data": {
      "text/plain": [
       "'              precision    recall  f1-score   support\\n\\n           0       0.00      0.00      0.00        14\\n           1       0.82      1.00      0.90        66\\n\\n    accuracy                           0.82        80\\n   macro avg       0.41      0.50      0.45        80\\nweighted avg       0.68      0.82      0.75        80\\n'"
      ]
     },
     "execution_count": 51,
     "metadata": {},
     "output_type": "execute_result"
    }
   ],
   "source": [
    "from sklearn.metrics import classification_report\n",
    "report=classification_report(y_train,y_pred)\n",
    "report"
   ]
  },
  {
   "cell_type": "code",
   "execution_count": 52,
   "id": "943978c6",
   "metadata": {},
   "outputs": [],
   "source": [
    "from sklearn.svm import SVC\n",
    "svc=SVC()\n",
    "svc.fit(X_train,y_train)\n",
    "y_pred=svc.predict(X_train)"
   ]
  },
  {
   "cell_type": "code",
   "execution_count": 53,
   "id": "835e28d6",
   "metadata": {},
   "outputs": [
    {
     "data": {
      "text/plain": [
       "1.0"
      ]
     },
     "execution_count": 53,
     "metadata": {},
     "output_type": "execute_result"
    }
   ],
   "source": [
    "from sklearn.metrics import accuracy_score\n",
    "acc=accuracy_score(y_train,y_pred)\n",
    "acc"
   ]
  },
  {
   "cell_type": "code",
   "execution_count": 54,
   "id": "eed34f1a",
   "metadata": {},
   "outputs": [
    {
     "data": {
      "text/plain": [
       "array([[14,  0],\n",
       "       [ 0, 66]], dtype=int64)"
      ]
     },
     "execution_count": 54,
     "metadata": {},
     "output_type": "execute_result"
    }
   ],
   "source": [
    "from sklearn.metrics import confusion_matrix\n",
    "cm=confusion_matrix(y_train,y_pred)\n",
    "cm"
   ]
  },
  {
   "cell_type": "code",
   "execution_count": 55,
   "id": "00a691d0",
   "metadata": {},
   "outputs": [
    {
     "data": {
      "text/plain": [
       "'              precision    recall  f1-score   support\\n\\n           0       1.00      1.00      1.00        14\\n           1       1.00      1.00      1.00        66\\n\\n    accuracy                           1.00        80\\n   macro avg       1.00      1.00      1.00        80\\nweighted avg       1.00      1.00      1.00        80\\n'"
      ]
     },
     "execution_count": 55,
     "metadata": {},
     "output_type": "execute_result"
    }
   ],
   "source": [
    "from sklearn.metrics import classification_report\n",
    "report=classification_report(y_train,y_pred)\n",
    "report"
   ]
  },
  {
   "cell_type": "code",
   "execution_count": 56,
   "id": "cf38b076",
   "metadata": {},
   "outputs": [
    {
     "name": "stdout",
     "output_type": "stream",
     "text": [
      "best params: {'C': 0.1, 'gamma': 'auto', 'kernel': 'rbf'}\n",
      "best score: 0.825\n"
     ]
    }
   ],
   "source": [
    "from sklearn.model_selection import GridSearchCV\n",
    "params={\"C\":[0.1,0.001],\"kernel\":[\"rbf\",\"linear\"],\"gamma\":[\"auto\",\"scale\"]}\n",
    "grid=GridSearchCV(estimator=svc,param_grid=params,cv=5)\n",
    "grid.fit(X_train,y_train)\n",
    "print(\"best params:\",grid.best_params_)\n",
    "print(\"best score:\",grid.best_score_)"
   ]
  },
  {
   "cell_type": "code",
   "execution_count": 57,
   "id": "1e5d2ff0",
   "metadata": {},
   "outputs": [],
   "source": [
    "from sklearn.neighbors import KNeighborsClassifier\n",
    "knn=KNeighborsClassifier()\n",
    "knn.fit(X_train,y_train)\n",
    "y_pred=knn.predict(X_train)"
   ]
  },
  {
   "cell_type": "code",
   "execution_count": 58,
   "id": "8d283793",
   "metadata": {},
   "outputs": [
    {
     "data": {
      "text/plain": [
       "0.825"
      ]
     },
     "execution_count": 58,
     "metadata": {},
     "output_type": "execute_result"
    }
   ],
   "source": [
    "from sklearn.metrics import accuracy_score\n",
    "acc=accuracy_score(y_train,y_pred)\n",
    "acc"
   ]
  },
  {
   "cell_type": "code",
   "execution_count": 59,
   "id": "f7f38bab",
   "metadata": {},
   "outputs": [
    {
     "data": {
      "text/plain": [
       "array([[ 0, 14],\n",
       "       [ 0, 66]], dtype=int64)"
      ]
     },
     "execution_count": 59,
     "metadata": {},
     "output_type": "execute_result"
    }
   ],
   "source": [
    "from sklearn.metrics import confusion_matrix\n",
    "cm=confusion_matrix(y_train,y_pred)\n",
    "cm"
   ]
  },
  {
   "cell_type": "code",
   "execution_count": 60,
   "id": "f999eab9",
   "metadata": {},
   "outputs": [
    {
     "name": "stdout",
     "output_type": "stream",
     "text": [
      "best_score: 0.825\n",
      "best_params: {'n_neighbors': 5, 'weights': 'uniform'}\n"
     ]
    }
   ],
   "source": [
    "from sklearn.model_selection import GridSearchCV\n",
    "params={\"n_neighbors\":[5,7,10],\"weights\":[\"uniform\",\"distance\"]}\n",
    "grid=GridSearchCV(estimator=knn,param_grid=params,cv=5)\n",
    "grid.fit(X_train,y_train)\n",
    "print(\"best_score:\",grid.best_score_)\n",
    "print(\"best_params:\",grid.best_params_)"
   ]
  },
  {
   "cell_type": "code",
   "execution_count": 61,
   "id": "8807c7f0",
   "metadata": {},
   "outputs": [],
   "source": [
    "from sklearn.tree import DecisionTreeClassifier\n",
    "tree=DecisionTreeClassifier()\n",
    "tree.fit(X_train,y_train)\n",
    "y_pred=tree.predict(X_train)"
   ]
  },
  {
   "cell_type": "code",
   "execution_count": 62,
   "id": "b2a98399",
   "metadata": {},
   "outputs": [
    {
     "data": {
      "text/plain": [
       "1.0"
      ]
     },
     "execution_count": 62,
     "metadata": {},
     "output_type": "execute_result"
    }
   ],
   "source": [
    "from sklearn.metrics import accuracy_score\n",
    "acc=accuracy_score(y_train,y_pred)\n",
    "acc"
   ]
  },
  {
   "cell_type": "code",
   "execution_count": 63,
   "id": "69a8215a",
   "metadata": {},
   "outputs": [
    {
     "data": {
      "text/plain": [
       "array([[14,  0],\n",
       "       [ 0, 66]], dtype=int64)"
      ]
     },
     "execution_count": 63,
     "metadata": {},
     "output_type": "execute_result"
    }
   ],
   "source": [
    "from sklearn.metrics import confusion_matrix\n",
    "cm=confusion_matrix(y_train,y_pred)\n",
    "cm"
   ]
  },
  {
   "cell_type": "code",
   "execution_count": 64,
   "id": "9f05df0b",
   "metadata": {},
   "outputs": [
    {
     "data": {
      "text/plain": [
       "'              precision    recall  f1-score   support\\n\\n           0       1.00      1.00      1.00        14\\n           1       1.00      1.00      1.00        66\\n\\n    accuracy                           1.00        80\\n   macro avg       1.00      1.00      1.00        80\\nweighted avg       1.00      1.00      1.00        80\\n'"
      ]
     },
     "execution_count": 64,
     "metadata": {},
     "output_type": "execute_result"
    }
   ],
   "source": [
    "from sklearn.metrics import classification_report\n",
    "report=classification_report(y_train,y_pred)\n",
    "report"
   ]
  },
  {
   "cell_type": "code",
   "execution_count": 65,
   "id": "b1cc0c9c",
   "metadata": {},
   "outputs": [
    {
     "name": "stdout",
     "output_type": "stream",
     "text": [
      "best_score: 0.825\n",
      "best_params: {'min_samples_split': 6, 'min_samples_leaf': 10, 'max_depth': 7, 'criterion': 'gini'}\n"
     ]
    }
   ],
   "source": [
    "from sklearn.model_selection import RandomizedSearchCV\n",
    "params={'criterion': ['gini', 'entropy'],\n",
    "    'max_depth':[1,3,5,7,10],\n",
    "    'min_samples_split':[2,5,6,10,15, 20],\n",
    "    'min_samples_leaf':[2,5,6,10]}\n",
    "random=RandomizedSearchCV(estimator=dtree,param_distributions=params,cv=5)\n",
    "random.fit(X_train,y_train)\n",
    "print(\"best_score:\",random.best_score_)\n",
    "print(\"best_params:\",random.best_params_)"
   ]
  },
  {
   "cell_type": "code",
   "execution_count": 66,
   "id": "a3e66055",
   "metadata": {},
   "outputs": [],
   "source": [
    "from sklearn.ensemble import RandomForestClassifier\n",
    "rndf=RandomForestClassifier()\n",
    "rndf.fit(X_train,y_train)\n",
    "y_pred=rndf.predict(X_train)"
   ]
  },
  {
   "cell_type": "code",
   "execution_count": 67,
   "id": "fc0703e4",
   "metadata": {},
   "outputs": [
    {
     "data": {
      "text/plain": [
       "1.0"
      ]
     },
     "execution_count": 67,
     "metadata": {},
     "output_type": "execute_result"
    }
   ],
   "source": [
    "from sklearn.metrics import accuracy_score\n",
    "acc=accuracy_score(y_train,y_pred)\n",
    "acc"
   ]
  },
  {
   "cell_type": "code",
   "execution_count": 68,
   "id": "7e1a5a7d",
   "metadata": {},
   "outputs": [
    {
     "data": {
      "text/plain": [
       "array([[14,  0],\n",
       "       [ 0, 66]], dtype=int64)"
      ]
     },
     "execution_count": 68,
     "metadata": {},
     "output_type": "execute_result"
    }
   ],
   "source": [
    "from sklearn.metrics import confusion_matrix\n",
    "cm=confusion_matrix(y_train,y_pred)\n",
    "cm"
   ]
  },
  {
   "cell_type": "code",
   "execution_count": 69,
   "id": "fe233200",
   "metadata": {},
   "outputs": [
    {
     "data": {
      "text/plain": [
       "'              precision    recall  f1-score   support\\n\\n           0       1.00      1.00      1.00        14\\n           1       1.00      1.00      1.00        66\\n\\n    accuracy                           1.00        80\\n   macro avg       1.00      1.00      1.00        80\\nweighted avg       1.00      1.00      1.00        80\\n'"
      ]
     },
     "execution_count": 69,
     "metadata": {},
     "output_type": "execute_result"
    }
   ],
   "source": [
    "from sklearn.metrics import classification_report\n",
    "report=classification_report(y_train,y_pred)\n",
    "report"
   ]
  },
  {
   "cell_type": "code",
   "execution_count": 70,
   "id": "59084413",
   "metadata": {},
   "outputs": [
    {
     "name": "stdout",
     "output_type": "stream",
     "text": [
      "best_score: 0.825\n",
      "best_params: {'n_estimators': 1000, 'min_samples_split': 15, 'min_samples_leaf': 10, 'max_depth': 3, 'criterion': 'gini'}\n"
     ]
    }
   ],
   "source": [
    "from sklearn.model_selection import RandomizedSearchCV\n",
    "params={'n_estimators':[100, 1000],\n",
    "    'criterion': ['gini', 'entropy'],\n",
    "    'max_depth':[1,3,5,7,10],\n",
    "    'min_samples_split':[2,5,6,10,15, 20],\n",
    "    'min_samples_leaf':[2,5,6,10]}\n",
    "random=RandomizedSearchCV(estimator=rndf,param_distributions=params,cv=5)\n",
    "random.fit(X_train,y_train)\n",
    "print(\"best_score:\",random.best_score_)\n",
    "print(\"best_params:\",random.best_params_)"
   ]
  },
  {
   "cell_type": "code",
   "execution_count": 71,
   "id": "09fc5eb5",
   "metadata": {},
   "outputs": [],
   "source": [
    "from xgboost import XGBClassifier\n",
    "xgb=XGBClassifier()\n",
    "xgb.fit(X_train,y_train)\n",
    "y_pred=xgb.predict(X_train)"
   ]
  },
  {
   "cell_type": "code",
   "execution_count": 72,
   "id": "ff3c7f08",
   "metadata": {},
   "outputs": [
    {
     "data": {
      "text/plain": [
       "0.825"
      ]
     },
     "execution_count": 72,
     "metadata": {},
     "output_type": "execute_result"
    }
   ],
   "source": [
    "from sklearn.metrics import accuracy_score\n",
    "acc=accuracy_score(y_train,y_pred)\n",
    "acc"
   ]
  },
  {
   "cell_type": "code",
   "execution_count": 73,
   "id": "eca50ab6",
   "metadata": {},
   "outputs": [
    {
     "data": {
      "text/plain": [
       "array([[ 0, 14],\n",
       "       [ 0, 66]], dtype=int64)"
      ]
     },
     "execution_count": 73,
     "metadata": {},
     "output_type": "execute_result"
    }
   ],
   "source": [
    "from sklearn.metrics import confusion_matrix\n",
    "cm=confusion_matrix(y_train,y_pred)\n",
    "cm"
   ]
  },
  {
   "cell_type": "code",
   "execution_count": 74,
   "id": "e1431458",
   "metadata": {},
   "outputs": [
    {
     "data": {
      "text/plain": [
       "'              precision    recall  f1-score   support\\n\\n           0       0.00      0.00      0.00        14\\n           1       0.82      1.00      0.90        66\\n\\n    accuracy                           0.82        80\\n   macro avg       0.41      0.50      0.45        80\\nweighted avg       0.68      0.82      0.75        80\\n'"
      ]
     },
     "execution_count": 74,
     "metadata": {},
     "output_type": "execute_result"
    }
   ],
   "source": [
    "from sklearn.metrics import classification_report\n",
    "report=classification_report(y_train,y_pred)\n",
    "report"
   ]
  },
  {
   "cell_type": "code",
   "execution_count": null,
   "id": "a27ae96c",
   "metadata": {},
   "outputs": [],
   "source": []
  }
 ],
 "metadata": {
  "kernelspec": {
   "display_name": "Python 3 (ipykernel)",
   "language": "python",
   "name": "python3"
  },
  "language_info": {
   "codemirror_mode": {
    "name": "ipython",
    "version": 3
   },
   "file_extension": ".py",
   "mimetype": "text/x-python",
   "name": "python",
   "nbconvert_exporter": "python",
   "pygments_lexer": "ipython3",
   "version": "3.10.9"
  }
 },
 "nbformat": 4,
 "nbformat_minor": 5
}
